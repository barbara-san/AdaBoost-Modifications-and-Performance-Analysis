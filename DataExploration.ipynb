{
 "cells": [
  {
   "cell_type": "code",
   "execution_count": null,
   "metadata": {},
   "outputs": [],
   "source": [
    "import pandas as pd\n",
    "import numpy as np\n",
    "import openml\n",
    "import seaborn as sn\n",
    "import matplotlib.pyplot as plt"
   ]
  },
  {
   "attachments": {},
   "cell_type": "markdown",
   "metadata": {},
   "source": [
    "# Dataframe 15"
   ]
  },
  {
   "cell_type": "code",
   "execution_count": null,
   "metadata": {},
   "outputs": [],
   "source": [
    "suite = openml.study.get_suite(99)\n",
    "list = [15, 24, 3904, 146820]\n",
    "task = openml.tasks.get_task(15)    \n",
    "dataset = openml.datasets.get_dataset(task.dataset_id)\n",
    "\n",
    "X, y, categorical_indicator, attribute_names = dataset.get_data(\n",
    "    dataset_format=\"array\", target=dataset.default_target_attribute\n",
    ")\n",
    "\n",
    "df = pd.DataFrame(X, columns=attribute_names)\n",
    "# converter:\n",
    "#   0 -> -1\n",
    "#   1 -> 1\n",
    "df['target'] = 2*y-1 \n",
    "# erase rows with NaN values\n",
    "df = df.dropna(how='any', axis=0)\n",
    "\n",
    "\n",
    "'''plt.matshow(df.corr())\n",
    "plt.show()\n",
    "corr = df.corr()\n",
    "corr.style.background_gradient(cmap='Purples')\n",
    "# 'RdBu_r', 'BrBG_r', & PuOr_r are other good diverging colormaps\n",
    "'''\n",
    "heatMap = df.corr()\n",
    "sn.heatmap(heatMap, cmap=sn.cubehelix_palette(rot=.2))"
   ]
  },
  {
   "cell_type": "code",
   "execution_count": null,
   "metadata": {},
   "outputs": [],
   "source": [
    "aa = df.cumsum()\n",
    "aa.plot()"
   ]
  },
  {
   "cell_type": "code",
   "execution_count": null,
   "metadata": {},
   "outputs": [],
   "source": [
    "'''fig = plt.figure(figsize = (15,20))\n",
    "ax = fig.gca()\n",
    "df.diff().hist(ax = ax, color=\"k\", alpha=0.5, bins=50);'''"
   ]
  },
  {
   "cell_type": "code",
   "execution_count": null,
   "metadata": {},
   "outputs": [],
   "source": [
    "df.boxplot(figsize=(20, 10), color='k');"
   ]
  },
  {
   "attachments": {},
   "cell_type": "markdown",
   "metadata": {},
   "source": [
    "# Dataframe 24"
   ]
  },
  {
   "cell_type": "code",
   "execution_count": null,
   "metadata": {},
   "outputs": [],
   "source": [
    "suite = openml.study.get_suite(99)\n",
    "list = [15, 24, 3904, 146820]\n",
    "task = openml.tasks.get_task(24)    \n",
    "dataset = openml.datasets.get_dataset(task.dataset_id)\n",
    "\n",
    "X, y, categorical_indicator, attribute_names = dataset.get_data(\n",
    "    dataset_format=\"array\", target=dataset.default_target_attribute\n",
    ")\n",
    "\n",
    "df = pd.DataFrame(X, columns=attribute_names)\n",
    "# converter:\n",
    "#   0 -> -1\n",
    "#   1 -> 1\n",
    "df['target'] = 2*y-1 \n",
    "# erase rows with NaN values\n",
    "df = df.dropna(how='any', axis=0)\n",
    "\n",
    "\n",
    "'''plt.matshow(df.corr())\n",
    "plt.show()\n",
    "corr = df.corr()\n",
    "corr.style.background_gradient(cmap='Purples')\n",
    "# 'RdBu_r', 'BrBG_r', & PuOr_r are other good diverging colormaps\n",
    "'''\n",
    "AdaBoostheatMap = df.corr()\n",
    "sn.heatmap(heatMap, cmap=sn.cubehelix_palette(rot=.2))"
   ]
  },
  {
   "cell_type": "code",
   "execution_count": null,
   "metadata": {},
   "outputs": [],
   "source": [
    "aa = df.cumsum()\n",
    "aa.plot()"
   ]
  },
  {
   "cell_type": "code",
   "execution_count": null,
   "metadata": {},
   "outputs": [],
   "source": [
    "'''fig = plt.figure(figsize = (15,20))\n",
    "ax = fig.gca()\n",
    "df.diff().hist(ax = ax, color=\"k\", alpha=0.5, bins=50);'''"
   ]
  },
  {
   "cell_type": "code",
   "execution_count": null,
   "metadata": {},
   "outputs": [],
   "source": [
    "df.boxplot(figsize=(10, 10), color='k');"
   ]
  },
  {
   "attachments": {},
   "cell_type": "markdown",
   "metadata": {},
   "source": [
    "# Dataframe 3904"
   ]
  },
  {
   "cell_type": "code",
   "execution_count": null,
   "metadata": {},
   "outputs": [],
   "source": [
    "suite = openml.study.get_suite(99)\n",
    "list = [15, 24, 3904, 146820]\n",
    "task = openml.tasks.get_task(3904)    \n",
    "dataset = openml.datasets.get_dataset(task.dataset_id)\n",
    "\n",
    "X, y, categorical_indicator, attribute_names = dataset.get_data(\n",
    "    dataset_format=\"array\", target=dataset.default_target_attribute\n",
    ")\n",
    "\n",
    "df = pd.DataFrame(X, columns=attribute_names)\n",
    "# converter:\n",
    "#   0 -> -1\n",
    "#   1 -> 1\n",
    "df['target'] = 2*y-1 \n",
    "# erase rows with NaN values\n",
    "df = df.dropna(how='any', axis=0)\n",
    "\n",
    "\n",
    "''''plt.matshow(df.corr())\n",
    "plt.show()\n",
    "corr = df.corr()\n",
    "corr.style.background_gradient(cmap='Purples')\n",
    "# 'RdBu_r', 'BrBG_r', & PuOr_r are other good diverging colormaps'''\n",
    "heatMap = df.corr()\n",
    "sn.heatmap(heatMap, cmap=sn.cubehelix_palette(rot=.2))"
   ]
  },
  {
   "cell_type": "code",
   "execution_count": null,
   "metadata": {},
   "outputs": [],
   "source": [
    "aa = df.cumsum()\n",
    "aa.plot()"
   ]
  },
  {
   "cell_type": "code",
   "execution_count": null,
   "metadata": {},
   "outputs": [],
   "source": [
    "'''fig = plt.figure(figsize = (15,20))\n",
    "ax = fig.gca()\n",
    "df.diff().hist(ax = ax, color=\"k\", alpha=0.5, bins=50);'''"
   ]
  },
  {
   "cell_type": "code",
   "execution_count": null,
   "metadata": {},
   "outputs": [],
   "source": [
    "print(df.columns)\n",
    "col = df.columns\n",
    "for c in col:\n",
    "    dff = df[col]\n",
    "    fig = plt.figure(figsize = (15,20))\n",
    "    dff.boxplot(figsize=(30, 10), color='k')\n",
    "    \n",
    "'''dff = df[['loc', 'v(g)', 'ev(g)', 'iv(g)', 'n', 'l', 'd', 'i', 'b',\n",
    "       'lOCode', 'lOComment', 'lOBlank', 'locCodeAndComment', 'uniq_Op',\n",
    "       'uniq_Opnd', 'total_Op', 'total_Opnd', 'branchCount', 'target']]'''\n",
    "#df.boxplot(figsize=(30, 10));\n"
   ]
  },
  {
   "attachments": {},
   "cell_type": "markdown",
   "metadata": {},
   "source": [
    "# Dataframe 146820"
   ]
  },
  {
   "cell_type": "code",
   "execution_count": null,
   "metadata": {},
   "outputs": [],
   "source": [
    "suite = openml.study.get_suite(99)\n",
    "list = [15, 24, 3904, 146820]\n",
    "task = openml.tasks.get_task(146820)    \n",
    "dataset = openml.datasets.get_dataset(task.dataset_id)\n",
    "\n",
    "X, y, categorical_indicator, attribute_names = dataset.get_data(\n",
    "    dataset_format=\"array\", target=dataset.default_target_attribute\n",
    ")\n",
    "\n",
    "df = pd.DataFrame(X, columns=attribute_names)\n",
    "# converter:\n",
    "#   0 -> -1\n",
    "#   1 -> 1\n",
    "df['target'] = 2*y-1 \n",
    "# erase rows with NaN values\n",
    "df = df.dropna(how='any', axis=0)\n",
    "\n",
    "\n",
    "'''plt.matshow(df.corr(), theme = 'Purples')\n",
    "plt.show()\n",
    "corr = df.corr()\n",
    "corr.style.background_gradient(cmap='Purples')\n",
    "# 'RdBu_r', 'BrBG_r', & PuOr_r are other good diverging colormaps'''\n",
    "heatMap = df.corr()\n",
    "sn.heatmap(heatMap, cmap=sn.cubehelix_palette(rot=.2))"
   ]
  },
  {
   "cell_type": "code",
   "execution_count": null,
   "metadata": {},
   "outputs": [],
   "source": [
    "aa = df.cumsum()\n",
    "aa.plot()"
   ]
  },
  {
   "cell_type": "code",
   "execution_count": null,
   "metadata": {},
   "outputs": [],
   "source": [
    "'''fig = plt.figure(figsize = (15,20))\n",
    "ax = fig.gca()\n",
    "df.diff().hist(ax = ax, color=\"k\", alpha=0.5, bins=50);'''"
   ]
  },
  {
   "cell_type": "code",
   "execution_count": null,
   "metadata": {},
   "outputs": [],
   "source": [
    "\n",
    "df.boxplot(figsize=(15, 10), color='k')"
   ]
  }
 ],
 "metadata": {
  "kernelspec": {
   "display_name": "base",
   "language": "python",
   "name": "python3"
  },
  "language_info": {
   "codemirror_mode": {
    "name": "ipython",
    "version": 3
   },
   "file_extension": ".py",
   "mimetype": "text/x-python",
   "name": "python",
   "nbconvert_exporter": "python",
   "pygments_lexer": "ipython3",
   "version": "3.9.7"
  },
  "orig_nbformat": 4
 },
 "nbformat": 4,
 "nbformat_minor": 2
}
