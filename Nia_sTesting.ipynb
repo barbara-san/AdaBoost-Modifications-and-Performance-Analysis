{
 "cells": [
  {
   "cell_type": "code",
   "execution_count": 1,
   "metadata": {},
   "outputs": [],
   "source": [
    "import openml\n",
    "import pandas as pd\n",
    "import numpy as np\n",
    "\n",
    "from sklearn.model_selection import train_test_split\n",
    "from sklearn.metrics import accuracy_score\n",
    "\n",
    "from AdaBoostClassifier import AdaBoost\n",
    "from sklearn.ensemble import AdaBoostClassifier"
   ]
  },
  {
   "cell_type": "code",
   "execution_count": 2,
   "metadata": {},
   "outputs": [
    {
     "data": {
      "text/plain": [
       "<bound method NDFrame.head of       cap-shape  cap-surface  cap-color  bruises%3F  odor  gill-attachment  \\\n",
       "0           5.0          2.0        4.0         1.0   6.0              2.0   \n",
       "1           5.0          2.0        9.0         1.0   0.0              2.0   \n",
       "2           0.0          2.0        8.0         1.0   3.0              2.0   \n",
       "3           5.0          3.0        8.0         1.0   6.0              2.0   \n",
       "4           5.0          2.0        3.0         0.0   5.0              2.0   \n",
       "...         ...          ...        ...         ...   ...              ...   \n",
       "7986        0.0          3.0        4.0         0.0   5.0              2.0   \n",
       "8001        5.0          3.0        4.0         0.0   5.0              2.0   \n",
       "8038        5.0          3.0        3.0         1.0   5.0              2.0   \n",
       "8095        5.0          3.0        1.0         0.0   4.0              2.0   \n",
       "8114        2.0          3.0        1.0         0.0   4.0              0.0   \n",
       "\n",
       "      gill-spacing  gill-size  gill-color  stalk-shape  ...  \\\n",
       "0              0.0        1.0         4.0          0.0  ...   \n",
       "1              0.0        0.0         4.0          0.0  ...   \n",
       "2              0.0        0.0         5.0          0.0  ...   \n",
       "3              0.0        1.0         5.0          0.0  ...   \n",
       "4              2.0        0.0         4.0          1.0  ...   \n",
       "...            ...        ...         ...          ...  ...   \n",
       "7986           0.0        0.0        10.0          0.0  ...   \n",
       "8001           0.0        0.0        10.0          0.0  ...   \n",
       "8038           0.0        0.0        10.0          0.0  ...   \n",
       "8095           0.0        0.0        11.0          0.0  ...   \n",
       "8114           0.0        0.0        11.0          0.0  ...   \n",
       "\n",
       "      stalk-color-above-ring  stalk-color-below-ring  veil-type  veil-color  \\\n",
       "0                        7.0                     7.0        0.0         2.0   \n",
       "1                        7.0                     7.0        0.0         2.0   \n",
       "2                        7.0                     7.0        0.0         2.0   \n",
       "3                        7.0                     7.0        0.0         2.0   \n",
       "4                        7.0                     7.0        0.0         2.0   \n",
       "...                      ...                     ...        ...         ...   \n",
       "7986                     4.0                     4.0        0.0         2.0   \n",
       "8001                     4.0                     4.0        0.0         2.0   \n",
       "8038                     7.0                     7.0        0.0         2.0   \n",
       "8095                     1.0                     1.0        0.0         2.0   \n",
       "8114                     1.0                     1.0        0.0         2.0   \n",
       "\n",
       "      ring-number  ring-type  spore-print-color  population  habitat  target  \n",
       "0             1.0        5.0                2.0         3.0      5.0       1  \n",
       "1             1.0        5.0                3.0         2.0      1.0       0  \n",
       "2             1.0        5.0                3.0         2.0      3.0       0  \n",
       "3             1.0        5.0                2.0         3.0      5.0       1  \n",
       "4             1.0        1.0                3.0         0.0      1.0       0  \n",
       "...           ...        ...                ...         ...      ...     ...  \n",
       "7986          2.0        5.0                7.0         5.0      4.0       0  \n",
       "8001          2.0        5.0                7.0         5.0      4.0       0  \n",
       "8038          2.0        5.0                7.0         5.0      4.0       0  \n",
       "8095          0.0        4.0                7.0         1.0      0.0       1  \n",
       "8114          0.0        4.0                7.0         1.0      0.0       1  \n",
       "\n",
       "[5644 rows x 23 columns]>"
      ]
     },
     "execution_count": 2,
     "metadata": {},
     "output_type": "execute_result"
    }
   ],
   "source": [
    "# get the data\n",
    "suite = openml.study.get_suite(99)\n",
    "\n",
    "task_id = 24 # Mushrooms Classification\n",
    "task = openml.tasks.get_task(task_id)    \n",
    "\n",
    "dataset = openml.datasets.get_dataset(task.dataset_id)\n",
    "\n",
    "X, y, categorical_indicator, attribute_names = dataset.get_data(\n",
    "    dataset_format=\"array\", target=dataset.default_target_attribute\n",
    ")\n",
    "\n",
    "#y Visualizar o dataset\n",
    "df = pd.DataFrame(X, columns=attribute_names)\n",
    "\n",
    "df['target'] = y\n",
    "\n",
    "df = df.dropna(how='any', axis=0)\n",
    "\n",
    "X = df.drop(columns=['target'], axis=1)\n",
    "y = df.target\n",
    "df.head\n",
    "\n"
   ]
  },
  {
   "cell_type": "code",
   "execution_count": 3,
   "metadata": {},
   "outputs": [],
   "source": [
    "# Splitting the data set into train and test datasets\n",
    "X = df.drop(['target'], axis=1)\n",
    "y = df['target']\n",
    "X_train, X_test, y_train, y_test = train_test_split(X, y,test_size = 0.3, random_state = 1234, shuffle = True)"
   ]
  },
  {
   "cell_type": "code",
   "execution_count": 6,
   "metadata": {},
   "outputs": [
    {
     "name": "stdout",
     "output_type": "stream",
     "text": [
      "0.6127508854781583 accuracy with ratio = 0.001\n",
      "0.6127508854781583 accuracy with ratio = 0.01\n",
      "0.6127508854781583 accuracy with ratio = 0.1\n",
      "0.6127508854781583 accuracy with ratio = 0.5\n",
      "0.6127508854781583 accuracy with ratio = 1\n",
      "0.6127508854781583 accuracy with ratio = 1.5\n",
      "0.6127508854781583 accuracy with ratio = 2\n",
      "0.6127508854781583 accuracy with ratio = 5\n",
      "0.6127508854781583 accuracy with ratio = 10\n"
     ]
    }
   ],
   "source": [
    "ratios = [0.001, 0.01, 0.10, 0.5, 1, 1.5, 2, 5, 10]\n",
    "for r in ratios:   \n",
    "    AdaB = AdaBoost(1000, 1, 42)\n",
    "    AdaB.fit(X_train, y_train, r)\n",
    "    prediction = AdaB.predict(X_test)\n",
    "    print(f\"{accuracy_score(prediction, y_test)} accuracy with ratio = {r}\")"
   ]
  },
  {
   "cell_type": "code",
   "execution_count": 12,
   "metadata": {},
   "outputs": [
    {
     "name": "stdout",
     "output_type": "stream",
     "text": [
      "Max Accuracy = 0.8990554899645808 with seed = 7150\n"
     ]
    }
   ],
   "source": [
    "import random as rd\n",
    "\n",
    "seed = [0, 1111, 1234, 6969, 3333, 420, 14, 141, 4224]\n",
    "maxacc = 0\n",
    "maxi = 0\n",
    "for i in range(102):\n",
    "    s = rd.randint(0, 99999)\n",
    "    AdaB = AdaBoost(1000, 1, s)\n",
    "    AdaB.fit(X_train, y_train)\n",
    "    prediction = AdaB.predict(X_test)\n",
    "    if accuracy_score(prediction, y_test) > maxacc:\n",
    "        maxi = s\n",
    "        maxacc = accuracy_score(prediction, y_test)\n",
    "    #print(f\"{accuracy_score(prediction, y_test)} accuracy with seed = {s}\")\n",
    "print(f\"Max Accuracy = {maxacc} with seed = {maxi}\")"
   ]
  },
  {
   "cell_type": "code",
   "execution_count": 6,
   "metadata": {},
   "outputs": [
    {
     "name": "stdout",
     "output_type": "stream",
     "text": [
      "Accuracy: 1.0\n"
     ]
    },
    {
     "data": {
      "text/plain": [
       "array([0, 1])"
      ]
     },
     "execution_count": 6,
     "metadata": {},
     "output_type": "execute_result"
    }
   ],
   "source": [
    "# Checking skleanr's AdaBoost results\n",
    "ab_skl = AdaBoostClassifier()\n",
    "ab_skl.fit(X_train, y_train)\n",
    "\n",
    "prediction = ab_skl.predict(X_test)\n",
    "print(\"Accuracy:\", accuracy_score(prediction, y_test))"
   ]
  },
  {
   "cell_type": "code",
   "execution_count": null,
   "metadata": {},
   "outputs": [],
   "source": []
  }
 ],
 "metadata": {
  "kernelspec": {
   "display_name": "base",
   "language": "python",
   "name": "python3"
  },
  "language_info": {
   "codemirror_mode": {
    "name": "ipython",
    "version": 3
   },
   "file_extension": ".py",
   "mimetype": "text/x-python",
   "name": "python",
   "nbconvert_exporter": "python",
   "pygments_lexer": "ipython3",
   "version": "3.9.7"
  },
  "orig_nbformat": 4
 },
 "nbformat": 4,
 "nbformat_minor": 2
}
