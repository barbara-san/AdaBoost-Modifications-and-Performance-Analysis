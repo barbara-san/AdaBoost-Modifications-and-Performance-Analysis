{
 "cells": [
  {
   "cell_type": "code",
   "execution_count": null,
   "metadata": {},
   "outputs": [],
   "source": [
    "# get the data\n",
    "\n",
    "import openml\n",
    "import pandas as pd\n",
    "import numpy as np\n",
    "\n",
    "suite = openml.study.get_suite(99)\n",
    "\n",
    "task_id = 3904\n",
    "task = openml.tasks.get_task(task_id)    \n",
    "\n",
    "dataset = openml.datasets.get_dataset(task.dataset_id)\n",
    "\n",
    "X, y, categorical_indicator, attribute_names = dataset.get_data(\n",
    "    dataset_format=\"array\", target=dataset.default_target_attribute\n",
    ")\n",
    "\n",
    "# Visualizar o dataset\n",
    "\n",
    "df = pd.DataFrame(X, columns=attribute_names)\n",
    "\n",
    "# converter:\n",
    "#   0 -> -1\n",
    "#   1 -> 1\n",
    "df['target'] = 2*y-1 \n",
    "\n",
    "df = df.dropna(how='any', axis=0)\n",
    "\n",
    "X = df.drop(columns=['target'], axis=1)\n",
    "y = df.target\n",
    "\n",
    "df"
   ]
  },
  {
   "cell_type": "code",
   "execution_count": null,
   "metadata": {},
   "outputs": [],
   "source": [
    "# split into training / testing sets\n",
    "\n",
    "from sklearn.model_selection import train_test_split\n",
    "X_train, X_test, y_train, y_test = train_test_split(X, y, test_size=0.3, random_state=123)"
   ]
  },
  {
   "cell_type": "code",
   "execution_count": null,
   "metadata": {},
   "outputs": [],
   "source": [
    "# fit the model, predict with it, and test accuracy\n",
    "\n",
    "from sklearn.metrics import accuracy_score, recall_score, precision_score, confusion_matrix\n",
    "from AdaBoostPleaseWork import AdaBoost\n",
    "\n",
    "for alpha in range(3+1):\n",
    "    print(\"Alpha calc method =\", alpha)\n",
    "    ab = AdaBoost()\n",
    "    ab.fit(X_train, y_train, alpha_type=alpha)\n",
    "    prediction = ab.predict(X_test)\n",
    "    \n",
    "    print(\"Values predicted:\", np.unique(prediction))\n",
    "    print(f\"Accuracy: \", accuracy_score(y_test, prediction, ))\n",
    "    print(f\"Precision: \", precision_score(y_test, prediction))\n",
    "    print(f\"Recall: \", recall_score(y_test, prediction))\n",
    "    print()\n",
    "    #print(\"Prediction:\", prediction)\n"
   ]
  }
 ],
 "metadata": {
  "kernelspec": {
   "display_name": "Python 3 (ipykernel)",
   "language": "python",
   "name": "python3"
  },
  "language_info": {
   "codemirror_mode": {
    "name": "ipython",
    "version": 3
   },
   "file_extension": ".py",
   "mimetype": "text/x-python",
   "name": "python",
   "nbconvert_exporter": "python",
   "pygments_lexer": "ipython3",
   "version": "3.9.7"
  }
 },
 "nbformat": 4,
 "nbformat_minor": 2
}
