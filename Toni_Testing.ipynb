{
 "cells": [
  {
   "cell_type": "code",
   "execution_count": 1,
   "metadata": {},
   "outputs": [
    {
     "data": {
      "text/plain": [
       "'\\nTO DO LIST:\\n    - evaluate the default algorithm\\n        - holdout\\n        - confusion matrix\\n        - ROC / AUC\\n    \\n    - compare the default algorithm with the modified ones for single task (my dataset)\\n        - get each modified algorithm houldout accuracy and standard deviation (SD) estimates\\n        - calculate the difference in accuracy and SD between the default model and each of the mdified ones\\n        - Are the differences statistically significant? -> Run hypothesis tests (paired t-test or wilcoxon)\\n\\nTO LATER DO WITH GROUP:\\n    - \\n        \\n\\n\\n'"
      ]
     },
     "execution_count": 1,
     "metadata": {},
     "output_type": "execute_result"
    }
   ],
   "source": [
    "\"\"\"\n",
    "TO DO LIST:\n",
    "    - evaluate the default algorithm\n",
    "        - holdout\n",
    "        - confusion matrix\n",
    "        - ROC / AUC\n",
    "    \n",
    "    - compare the default algorithm with the modified ones for single task (my dataset)\n",
    "        - get each modified algorithm houldout accuracy and standard deviation (SD) estimates\n",
    "        - calculate the difference in accuracy and SD between the default model and each of the mdified ones\n",
    "        - Are the differences statistically significant? -> Run hypothesis tests (paired t-test or wilcoxon)\n",
    "\n",
    "TO LATER DO WITH GROUP:\n",
    "    - \n",
    "        \n",
    "\n",
    "\n",
    "\"\"\""
   ]
  },
  {
   "cell_type": "code",
   "execution_count": 2,
   "metadata": {},
   "outputs": [],
   "source": [
    "# imports\n",
    "\n",
    "import pandas as pd\n",
    "import numpy as np\n",
    "import openml\n",
    "from AdaBoostWorkyWorky import AdaBoost\n",
    "from sklearn.model_selection import train_test_split, cross_val_score\n",
    "from sklearn.metrics import accuracy_score, precision_score, recall_score ,confusion_matrix, ConfusionMatrixDisplay\n",
    "import matplotlib.pyplot as plt\n"
   ]
  },
  {
   "cell_type": "code",
   "execution_count": 3,
   "metadata": {},
   "outputs": [
    {
     "name": "stdout",
     "output_type": "stream",
     "text": [
      "-1    570\n",
      " 1    178\n",
      "Name: target, dtype: int64\n"
     ]
    }
   ],
   "source": [
    "# get the data from OpenML\n",
    "# dataset from Task ID = 3904\n",
    "\n",
    "suite = openml.study.get_suite(99)\n",
    "#task_id = 3904\n",
    "task_id = 10101\n",
    "task = openml.tasks.get_task(task_id)    \n",
    "dataset = openml.datasets.get_dataset(task.dataset_id)\n",
    "\n",
    "X, y, categorical_indicator, attribute_names = dataset.get_data(\n",
    "    dataset_format=\"array\", target=dataset.default_target_attribute\n",
    ")\n",
    "\n",
    "# Visualizar o dataset\n",
    "\n",
    "df = pd.DataFrame(X, columns=attribute_names)\n",
    "# converter:\n",
    "#   0 -> -1\n",
    "#   1 -> 1\n",
    "df['target'] = 2*y-1 \n",
    "df = df.dropna(how='any', axis=0)\n",
    "\n",
    "X = df.drop(columns=['target'], axis=1)\n",
    "y = df.target\n",
    "\n",
    "df\n",
    "print(y.value_counts())"
   ]
  },
  {
   "cell_type": "code",
   "execution_count": 4,
   "metadata": {},
   "outputs": [],
   "source": [
    "# splitting the data into training and testing sets\n",
    "\n",
    "X_train, X_test, y_train, y_test = train_test_split(X, y, test_size=0.3, random_state=1111)"
   ]
  },
  {
   "cell_type": "code",
   "execution_count": 5,
   "metadata": {},
   "outputs": [],
   "source": [
    "# holdout estimation function\n",
    "\n",
    "def holdout_estimation(model, x, y, test_size_value=0.3, seed=1111):\n",
    "    x_train, x_test, y_train, y_test = train_test_split(x, y, test_size=test_size_value, random_state=seed)\n",
    "    model.fit(x_train, y_train)\n",
    "    y_pred = model.predict(x_test)\n",
    "    print(f\"Estimated accuracy by holdout {accuracy_score(y_test, y_pred):.5f}, using {model.__class__.__name__}\")"
   ]
  },
  {
   "cell_type": "code",
   "execution_count": 6,
   "metadata": {},
   "outputs": [
    {
     "name": "stdout",
     "output_type": "stream",
     "text": [
      "Estimated accuracy by holdout 0.72000, using AdaBoost\n"
     ]
    }
   ],
   "source": [
    "# fit and predict using the implementation of the default AdaBoost algorithm\n",
    "# using cross-validation to get an average of the accuracy of the model\n",
    "\n",
    "ab = AdaBoost()\n",
    "holdout_estimation(ab, X, y)"
   ]
  },
  {
   "cell_type": "code",
   "execution_count": 7,
   "metadata": {},
   "outputs": [
    {
     "name": "stdout",
     "output_type": "stream",
     "text": [
      "Alpha calc method = 0\n",
      "Values predicted: [-1  1]\n",
      "Accuracy:  0.7155555555555555\n",
      "Precision:  0.75\n",
      "Recall:  0.045454545454545456\n",
      "\n",
      "Alpha calc method = 1\n",
      "Values predicted: [-1  1]\n",
      "Accuracy:  0.7111111111111111\n",
      "Precision:  1.0\n",
      "Recall:  0.015151515151515152\n",
      "\n",
      "Alpha calc method = 2\n",
      "Values predicted: [-1  1]\n",
      "Accuracy:  0.7066666666666667\n",
      "Precision:  0.5\n",
      "Recall:  0.19696969696969696\n",
      "\n"
     ]
    }
   ],
   "source": [
    "for alpha in range(3):\n",
    "    print(\"Alpha calc method =\", alpha)\n",
    "    ab = AdaBoost()\n",
    "    ab.fit(X_train, y_train, alpha_type=alpha)\n",
    "    prediction = ab.predict(X_test)\n",
    "    \n",
    "    print(\"Values predicted:\", np.unique(prediction))\n",
    "    print(f\"Accuracy: \", accuracy_score(y_test, prediction))\n",
    "    print(f\"Precision: \", precision_score(y_test, prediction))\n",
    "    print(f\"Recall: \", recall_score(y_test, prediction))\n",
    "    print()"
   ]
  }
 ],
 "metadata": {
  "kernelspec": {
   "display_name": "base",
   "language": "python",
   "name": "python3"
  },
  "language_info": {
   "codemirror_mode": {
    "name": "ipython",
    "version": 3
   },
   "file_extension": ".py",
   "mimetype": "text/x-python",
   "name": "python",
   "nbconvert_exporter": "python",
   "pygments_lexer": "ipython3",
   "version": "3.9.7"
  },
  "orig_nbformat": 4
 },
 "nbformat": 4,
 "nbformat_minor": 2
}
